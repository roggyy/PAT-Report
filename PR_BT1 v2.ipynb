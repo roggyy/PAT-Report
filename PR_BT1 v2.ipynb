{
  "nbformat": 4,
  "nbformat_minor": 0,
  "metadata": {
    "colab": {
      "provenance": [],
      "collapsed_sections": [
        "bjTUnlktQrlT"
      ]
    },
    "kernelspec": {
      "name": "python3",
      "display_name": "Python 3"
    },
    "language_info": {
      "name": "python"
    }
  },
  "cells": [
    {
      "cell_type": "code",
      "execution_count": 1,
      "metadata": {
        "colab": {
          "base_uri": "https://localhost:8080/"
        },
        "id": "Sy_5a1KKIu_Y",
        "outputId": "90cf5288-12ac-425c-fa52-00d74153d2e4"
      },
      "outputs": [
        {
          "output_type": "stream",
          "name": "stdout",
          "text": [
            "Collecting reportlab\n",
            "  Downloading reportlab-4.0.4-py3-none-any.whl (1.9 MB)\n",
            "\u001b[2K     \u001b[90m━━━━━━━━━━━━━━━━━━━━━━━━━━━━━━━━━━━━━━━━\u001b[0m \u001b[32m1.9/1.9 MB\u001b[0m \u001b[31m17.8 MB/s\u001b[0m eta \u001b[36m0:00:00\u001b[0m\n",
            "\u001b[?25hRequirement already satisfied: pillow>=9.0.0 in /usr/local/lib/python3.10/dist-packages (from reportlab) (9.4.0)\n",
            "Installing collected packages: reportlab\n",
            "Successfully installed reportlab-4.0.4\n"
          ]
        }
      ],
      "source": [
        "!pip install reportlab"
      ]
    },
    {
      "cell_type": "code",
      "source": [
        "from reportlab.lib.pagesizes import letter\n",
        "from reportlab.lib.pagesizes import A4\n",
        "from reportlab.pdfgen.canvas import Canvas\n",
        "from reportlab.pdfbase import pdfmetrics\n",
        "from reportlab.pdfbase.ttfonts import TTFont\n",
        "from reportlab.lib import colors\n",
        "from reportlab.lib.styles import ParagraphStyle, getSampleStyleSheet\n",
        "from reportlab.platypus import Paragraph\n",
        "import pandas as pd\n",
        "import math\n",
        "import re"
      ],
      "metadata": {
        "id": "6VYFuvAsQgb2"
      },
      "execution_count": 2,
      "outputs": []
    },
    {
      "cell_type": "code",
      "source": [
        "pdfmetrics.registerFont(TTFont('Kalam-Bold', 'Kalam-Bold.ttf'))\n",
        "pdfmetrics.registerFont(TTFont('Kalam-Light', 'Kalam-Light.ttf'))\n",
        "pdfmetrics.registerFont(TTFont('Poppins-Bold', 'Poppins-Bold.ttf'))\n",
        "#pdfmetrics.registerFont(TTFont('Black_Bones', '/content/BlackBones.ttf'))\n",
        "pdfmetrics.registerFont(TTFont('IBMPlexSans-Bold', 'IBMPlexSans-Bold.ttf'))"
      ],
      "metadata": {
        "id": "mWpv5ix1Qj7_"
      },
      "execution_count": 3,
      "outputs": []
    },
    {
      "cell_type": "markdown",
      "source": [
        "# Elemental Functions\n",
        "### General parameter style- (canvas,object,coordinate,dimension,coloring,etc_styling)"
      ],
      "metadata": {
        "id": "bjTUnlktQrlT"
      }
    },
    {
      "cell_type": "code",
      "source": [
        "def insert_image(canvas, image_path, x, y, width=None, height=None):\n",
        "    # Insert the image at the specified position\n",
        "    if width is not None and height is not None:\n",
        "        canvas.drawImage(image_path, x, y, width=width, height=height, mask='auto')\n",
        "    else:\n",
        "        canvas.drawImage(image_path, x, y, mask='auto')"
      ],
      "metadata": {
        "id": "VcP-IJI2Qn7u"
      },
      "execution_count": 4,
      "outputs": []
    },
    {
      "cell_type": "code",
      "source": [
        "def add_text(canvas, text, x, y, font_size=12, font_style=\"Helvetica\",color=(0, 0, 0), underline=False, italic=False, bold=False):\n",
        "    # Set font size and font type\n",
        "    font_name = font_style\n",
        "    if bold:\n",
        "        font_name += \"-Bold\"\n",
        "    if italic:\n",
        "        font_name += \"-Oblique\"\n",
        "\n",
        "    canvas.setFont(font_name, font_size)\n",
        "    canvas.setStrokeColorRGB(*color)\n",
        "\n",
        "    # Set text decoration (underline)\n",
        "    if underline:\n",
        "        canvas.drawString(x, y - font_size - 1, text, mode=\"underline\")\n",
        "    else:\n",
        "        canvas.drawString(x, y - font_size - 1, text)"
      ],
      "metadata": {
        "id": "vZQUas0QQ2OQ"
      },
      "execution_count": 5,
      "outputs": []
    },
    {
      "cell_type": "code",
      "source": [
        "def add_line(canvas, x, y, length, width=1, color=(0, 0, 0), line_style=None):\n",
        "    # Calculate start and end points based on center coordinates and length\n",
        "    x1 = x - length / 2\n",
        "    x2 = x + length / 2\n",
        "    y1 = y2 = y\n",
        "\n",
        "    # Set line attributes\n",
        "    canvas.setLineWidth(width)\n",
        "    canvas.setStrokeColorRGB(*color)\n",
        "\n",
        "    if line_style == 'dotted':\n",
        "        canvas.setDash([1, 2], 0)\n",
        "    elif line_style == 'dashed':\n",
        "        canvas.setDash([4, 2], 0)\n",
        "\n",
        "    # Draw the line\n",
        "    canvas.line(x1, y1, x2, y2)"
      ],
      "metadata": {
        "id": "p7hpD0QxQ2K0"
      },
      "execution_count": 6,
      "outputs": []
    },
    {
      "cell_type": "code",
      "source": [
        "def add_rounded_text_box(canvas, text, x, y, corner_radii=10, text_size=12, text_font=\"Helvetica\", bg_color=(0, 0, 0), border_color=(0, 0, 0), text_color=(0, 0, 0)):\n",
        "    # Calculate text width and height\n",
        "    text_width = canvas.stringWidth(text, text_font, text_size)\n",
        "    text_height = text_size * 1.2\n",
        "\n",
        "    # Calculate box size with margins\n",
        "    box_width = text_width + 10\n",
        "    box_height = text_height + 10\n",
        "\n",
        "    # Set border color and background color\n",
        "    border_color = tuple(val / 255 for val in border_color)\n",
        "    bg_color = tuple(val / 255 for val in bg_color)\n",
        "\n",
        "    canvas.setStrokeColorRGB(*border_color)\n",
        "    canvas.setFillColorRGB(*bg_color)\n",
        "\n",
        "    # Set border thickness\n",
        "    canvas.setLineWidth(2)\n",
        "\n",
        "    # Draw rounded rectangle\n",
        "    canvas.roundRect(x, y, box_width, box_height, corner_radii, stroke=1, fill=1)\n",
        "\n",
        "    # Set text color and font\n",
        "    canvas.setFillColorRGB(*text_color)\n",
        "    canvas.setFont(text_font, text_size)\n",
        "\n",
        "    # Draw the text at the center of the box\n",
        "    text_x = x + (box_width - text_width) / 2\n",
        "    text_y = y + (box_height - text_height) / 2 + 7\n",
        "    canvas.drawString(text_x, text_y, text)"
      ],
      "metadata": {
        "id": "Hr0SQyiuQ2H8"
      },
      "execution_count": 7,
      "outputs": []
    },
    {
      "cell_type": "code",
      "source": [
        "def add_rounded_box(canvas, x, y, width, height, radius=10,border_thickness=1, border_color=(0, 0, 0), bg_color=(255, 255, 255)):\n",
        "    # Convert RGB values to floats in the range 0 to 1\n",
        "    border_color = tuple(val / 255 for val in border_color)\n",
        "    bg_color = tuple(val / 255 for val in bg_color)\n",
        "\n",
        "    # Set border color and background color\n",
        "    canvas.setStrokeColorRGB(*border_color)\n",
        "    canvas.setFillColorRGB(*bg_color)\n",
        "\n",
        "    # Set border thickness\n",
        "    canvas.setLineWidth(border_thickness)\n",
        "\n",
        "    # Draw rounded rectangle\n",
        "    canvas.roundRect(x, y, width, height, radius, stroke=1, fill=1)"
      ],
      "metadata": {
        "id": "LpeJrGd0Q2FI"
      },
      "execution_count": 8,
      "outputs": []
    },
    {
      "cell_type": "markdown",
      "source": [
        "## Score Viz"
      ],
      "metadata": {
        "id": "Lugq1criIQ-e"
      }
    },
    {
      "cell_type": "code",
      "source": [
        "def score_viz(score):\n",
        "  insert_image(canvas, '/content/btmLeft.png', 10, 275, 250,75 )\n",
        "  add_rounded_text_boxw(canvas, \"Your Score- \", 70,305, corner_radii=4, bg_color=(255,255,255), border_color=(255,255, 255), text_color=(0, 0, 0), text_size=16, text_font=\"Kalam-Bold\")\n",
        "  add_rounded_text_boxw(canvas, score, 160,300, corner_radii=4, bg_color=(255,255,255), border_color=(255,255, 255), text_color=(200, 0, 0), text_size=28, text_font=\"Kalam-Bold\")\n"
      ],
      "metadata": {
        "id": "qgnXbGRBIXbZ"
      },
      "execution_count": 9,
      "outputs": []
    },
    {
      "cell_type": "markdown",
      "source": [
        "# Compound Functions"
      ],
      "metadata": {
        "id": "2jjVmwZaRaIS"
      }
    },
    {
      "cell_type": "code",
      "source": [
        "#@title Letter head\n",
        "def let_head(canvas, name, cls, roll, sec):\n",
        "    # Define image parameters\n",
        "    image_path_1 = '/content/testImg.jpeg'  # Replace with the actual path to your image\n",
        "    image_path_2 = '/content/compImg.jpeg'\n",
        "\n",
        "    x1, y1 = A4[0] - 590, A4[1] - 65  # Position at the top-right corner\n",
        "    x2, y2 = A4[0] - 155, A4[1] - 50  # Position for the second image\n",
        "\n",
        "    # Call the function to insert images\n",
        "    insert_image(canvas, image_path_1, x1, y1, 166, 53)\n",
        "    insert_image(canvas, image_path_2, x2, y2, 135, 27)\n",
        "\n",
        "    # Use placeholder formatting for side-by-side text\n",
        "    formatted_text = \"{} | Class {} | Roll NO. {} | Sec {}\".format(name, cls, roll, sec)\n",
        "\n",
        "    # Calculate the width of the text\n",
        "    # text_width = canvas.stringWidth(name, \"IBMPlexSans-Bold\", 11) + \\\n",
        "    #              canvas.stringWidth(cls, \"IBMPlexSans-Bold\", 11) + \\\n",
        "    #              canvas.stringWidth(roll, \"IBMPlexSans-Bold\", 11) + \\\n",
        "    #              canvas.stringWidth(sec, \"IBMPlexSans-Bold\", 11)\n",
        "\n",
        "    text_width = canvas.stringWidth(formatted_text, \"IBMPlexSans-Bold\", 11)\n",
        "\n",
        "    x = (A4[0] - text_width) / 2  # Center the text with respect to x-axis\n",
        "    y = A4[1] - 25  # Adjust as needed\n",
        "\n",
        "\n",
        "\n",
        "    add_text(canvas, formatted_text, x, y, font_size=11, font_style=\"IBMPlexSans-Bold\")\n",
        "\n",
        "    ##solid,dotted,dashed\n",
        "    add_line(canvas, 300, 760, length=625, width=1, color=(0, 0, 0), line_style='solid')\n"
      ],
      "metadata": {
        "id": "nNTASL33Q6b6",
        "cellView": "form"
      },
      "execution_count": 10,
      "outputs": []
    },
    {
      "cell_type": "code",
      "source": [
        "\n",
        "def add_rounded_text_boxm(canvas,text ,x, y, box_width, box_height, radii,box_border_thickness, box_border_color, box_bg_color,\n",
        "                         text_size, text_color, text_font, text_to_box_padding):\n",
        "    # Draw the box\n",
        "    canvas.setStrokeColorRGB(*box_border_color)\n",
        "    canvas.setFillColorRGB(*box_bg_color)\n",
        "    canvas.setLineWidth(box_border_thickness)\n",
        "    canvas.roundRect(x, y, box_width, box_height, radii, stroke=1, fill=1)\n",
        "\n",
        "    # Set font size and font type for the text\n",
        "    canvas.setFont(text_font, text_size)\n",
        "\n",
        "    # Calculate the available width and height for the text\n",
        "    text_width = box_width - 2 * text_to_box_padding\n",
        "    text_height = box_height - 2 * text_to_box_padding\n",
        "\n",
        "    # Split the text into lines that fit within the available width\n",
        "    lines = []\n",
        "    words = text.split()\n",
        "    line = words[0]\n",
        "    for word in words[1:]:\n",
        "        if canvas.stringWidth(line + ' ' + word, text_font, text_size) <= text_width:\n",
        "            line += ' ' + word\n",
        "        else:\n",
        "            lines.append(line)\n",
        "            line = word\n",
        "    lines.append(line)\n",
        "\n",
        "    # Draw the text lines within the box\n",
        "    text_x = x + text_to_box_padding\n",
        "    text_y = y + box_height - text_to_box_padding - text_size\n",
        "    for line in lines:\n",
        "        canvas.setFillColorRGB(*text_color)\n",
        "        canvas.drawString(text_x, text_y, line)\n",
        "        text_y -= text_size * 1.2  # Move to the next line\n"
      ],
      "metadata": {
        "id": "8K-9QvYDzwKn"
      },
      "execution_count": 11,
      "outputs": []
    },
    {
      "cell_type": "code",
      "source": [
        "def add_rounded_text_boxw(canvas, text, x, y, corner_radii=10, text_size=12, text_font=\"Helvetica\", bg_color=(0, 0, 0), border_color=(0, 0, 0), text_color=(0, 0, 0)):\n",
        "    # Calculate text width and height\n",
        "    text_width = canvas.stringWidth(text, text_font, text_size)\n",
        "    text_height = text_size * 1.2\n",
        "\n",
        "    # Calculate box size with margins\n",
        "    box_width = text_width\n",
        "    box_height = text_height\n",
        "\n",
        "    # Set border color and background color\n",
        "    border_color = tuple(val / 255 for val in border_color)\n",
        "    bg_color = tuple(val / 255 for val in bg_color)\n",
        "\n",
        "    canvas.setStrokeColorRGB(*border_color)\n",
        "    canvas.setFillColorRGB(*bg_color)\n",
        "\n",
        "    # Set border thickness\n",
        "    canvas.setLineWidth(2)\n",
        "\n",
        "    # Draw rounded rectangle\n",
        "    canvas.roundRect(x, y, box_width, box_height, corner_radii, stroke=1, fill=1)\n",
        "\n",
        "    # Set text color and font\n",
        "    canvas.setFillColorRGB(*text_color)\n",
        "    canvas.setFont(text_font, text_size)\n",
        "\n",
        "    # Draw the text at the center of the box\n",
        "    text_x = x + (box_width - text_width) / 2\n",
        "    text_y = y + (box_height - text_height) / 2 + 3\n",
        "    canvas.drawString(text_x, text_y, text)"
      ],
      "metadata": {
        "id": "CpFC2-7u6iXg"
      },
      "execution_count": 12,
      "outputs": []
    },
    {
      "cell_type": "code",
      "source": [
        "def add_rounded_boxwm(canvas, text,x, y, radii, box_width, box_height, bg_color, border_color, text_color, text_size, text_font,bold=False, italic=False):\n",
        "    # Calculate the width and height of the rounded box based on the provided dimensions\n",
        "    margin = 2\n",
        "    width = box_width - 2 * margin\n",
        "    height = box_height - 2 * margin\n",
        "\n",
        "    # Set border color and background color\n",
        "    canvas.setStrokeColorRGB(*border_color)\n",
        "    canvas.setFillColorRGB(*bg_color)\n",
        "\n",
        "    # Draw rounded rectangle\n",
        "    canvas.roundRect(x, y, width, height, radii, stroke=1, fill=1)\n",
        "\n",
        "    # Set text color and font\n",
        "    canvas.setFillColorRGB(*text_color)\n",
        "\n",
        "    if bold:\n",
        "        text_font += \"-Bold\"\n",
        "    if italic:\n",
        "        text_font += \"-Italic\"\n",
        "\n",
        "    canvas.setFont(text_font, text_size)\n",
        "\n",
        "    # Calculate text position\n",
        "    x_text = x + margin\n",
        "    y_text = y + height - margin -7  # Start from the top\n",
        "\n",
        "    # Draw the multiline text within the box\n",
        "    words = text.split()\n",
        "    lines = []\n",
        "    current_line = words[0]\n",
        "\n",
        "    for word in words[1:]:\n",
        "        test_line = current_line + ' ' + word\n",
        "        if canvas.stringWidth(test_line, text_font, text_size) <= width:\n",
        "            current_line = test_line\n",
        "        else:\n",
        "            lines.append(current_line)\n",
        "            current_line = word\n",
        "\n",
        "    # Add the last line\n",
        "    lines.append(current_line)\n",
        "\n",
        "    # Draw the lines\n",
        "    for line in lines:\n",
        "        canvas.drawString(x_text, y_text, line)\n",
        "        y_text -= text_size + 2  # Move to the next line\n"
      ],
      "metadata": {
        "id": "ORHEYt5v6lQF"
      },
      "execution_count": 13,
      "outputs": []
    },
    {
      "cell_type": "code",
      "source": [
        "def add_rounded_text_boxr(canvas, x, y, width, height, corner_radius, border_color, bg_color, border_thickness, text_size, text_color, text_font, text):\n",
        "    # Set border color and background color\n",
        "    border_color = tuple(val / 255 for val in border_color)\n",
        "    bg_color = tuple(val / 255 for val in bg_color)\n",
        "\n",
        "    canvas.setStrokeColorRGB(*border_color)\n",
        "    canvas.setFillColorRGB(*bg_color)\n",
        "\n",
        "    # Set border thickness\n",
        "    canvas.setLineWidth(border_thickness)\n",
        "\n",
        "    # Draw rounded rectangle\n",
        "    canvas.roundRect(x, y, width, height, corner_radius, stroke=1, fill=1)\n",
        "\n",
        "    # Split the multiline text into separate lines and reverse the order\n",
        "    lines = text.split('\\n')[::-1]\n",
        "\n",
        "    # Set text color and font\n",
        "    canvas.setFillColorRGB(*text_color)\n",
        "    canvas.setFont(text_font, text_size)\n",
        "\n",
        "    # Calculate the total height of all lines\n",
        "    total_text_height = len(lines) * text_size * 1.2\n",
        "\n",
        "    # Draw each line of text\n",
        "    for line in lines:\n",
        "        text_width = canvas.stringWidth(line, text_font, text_size)\n",
        "        text_x = x + 10  # Left justify by adding a small margin\n",
        "        text_y = y + (height - total_text_height) + text_size * 0.2\n",
        "        canvas.drawString(text_x, text_y, line)\n",
        "        total_text_height -= text_size * 1.2\n",
        "\n"
      ],
      "metadata": {
        "id": "faeEFnSO6pFF"
      },
      "execution_count": 14,
      "outputs": []
    },
    {
      "cell_type": "code",
      "source": [
        "def add_rounded_text_boxt(canvas, x, y, width, height, corner_radius, border_color, bg_color, border_thickness, max_text_size, text_color, text_font, text):\n",
        "\n",
        "    # Set border color and background color\n",
        "    border_color = tuple(val / 255 for val in border_color)\n",
        "    bg_color = tuple(val / 255 for val in bg_color)\n",
        "\n",
        "    canvas.setStrokeColorRGB(*border_color)\n",
        "    canvas.setFillColorRGB(*bg_color)\n",
        "\n",
        "    # Set border thickness\n",
        "    canvas.setLineWidth(border_thickness)\n",
        "\n",
        "    # Draw rounded rectangle\n",
        "    canvas.roundRect(x, y, width, height, corner_radius, stroke=1, fill=1)\n",
        "\n",
        "    # Calculate text area dimensions\n",
        "    text_x = x + 10\n",
        "    text_width = width - 20\n",
        "\n",
        "    # Initialize text size\n",
        "    text_size = max_text_size\n",
        "\n",
        "    # Try reducing text size until the text fits within the text area\n",
        "    while text_size > 0:\n",
        "        # Set text color and font\n",
        "        canvas.setFillColorRGB(*text_color)\n",
        "        canvas.setFont(text_font, text_size)\n",
        "\n",
        "        # Split the multi-line text into lines that fit within the text area\n",
        "        lines = []\n",
        "        line = \"\"\n",
        "        for word in text.split():\n",
        "            if canvas.stringWidth(line + word, text_font, text_size) <= (text_width + 30):\n",
        "                line += word + \" \"\n",
        "            else:\n",
        "                lines.insert(0, line)  # Insert at the beginning of the list to maintain order\n",
        "                line = word + \" \"\n",
        "        lines.insert(0, line)\n",
        "\n",
        "        # Calculate total text height\n",
        "        total_text_height = len(lines) * text_size * 1.2\n",
        "\n",
        "        # Check if the text fits within the text area\n",
        "        if total_text_height <= height:\n",
        "            break\n",
        "        else:\n",
        "            # Reduce text size and try again\n",
        "            text_size -= 1\n",
        "\n",
        "    # Calculate total text height\n",
        "    total_text_height = len(lines) * text_size * 1.2\n",
        "    text_y = (y + (height - total_text_height) / 2)\n",
        "\n",
        "    # Draw each line of text within the text area\n",
        "    for line in lines:\n",
        "        text_y += text_size #* 1.2\n",
        "        canvas.drawString(text_x, text_y, line)\n"
      ],
      "metadata": {
        "id": "nUscv4BN8Aah"
      },
      "execution_count": 15,
      "outputs": []
    },
    {
      "cell_type": "code",
      "source": [
        "def add_text_to_box(pdf_canvas, text, x, y, box_width, box_height, font_size=12, font_style=\"Kalam\", task_indent=0, line_spacing=1):\n",
        "\n",
        "    from reportlab.lib.styles import getSampleStyleSheet, ParagraphStyle\n",
        "    from reportlab.platypus import Paragraph\n",
        "\n",
        "    # Split the text into lines\n",
        "    lines = text.split('\\n')\n",
        "\n",
        "    # Create paragraph styles for bold and regular text\n",
        "    styles = getSampleStyleSheet()\n",
        "    bold_style = ParagraphStyle('BoldStyle', parent=styles['Normal'], fontName='Kalam-Bold', fontSize=font_size, leading=font_size * line_spacing)\n",
        "    regular_style = ParagraphStyle('RegularStyle', parent=styles['Normal'], fontName='Kalam-Light', fontSize=font_size, leading=font_size * line_spacing)\n",
        "\n",
        "    # Calculate the available space in the box\n",
        "    available_height = box_height - 10  # Margin\n",
        "\n",
        "    # Initialize the y-coordinate for text positioning\n",
        "    y_position = y + box_height - 5  # Start from the top\n",
        "\n",
        "    # Loop through each line of text and add it to the PDF\n",
        "    for line in lines:\n",
        "        if line.startswith(\"Task\") :  # Bold for task headings\n",
        "            task_heading = line\n",
        "            paragraph = Paragraph(task_heading, bold_style)\n",
        "\n",
        "            # Draw the paragraph on the canvas\n",
        "            paragraph_width, paragraph_height = paragraph.wrap(box_width, available_height)\n",
        "            paragraph.drawOn(pdf_canvas, x + 5, y_position - paragraph_height)\n",
        "\n",
        "            y_position -= paragraph_height  # Move to the next line\n",
        "        else:\n",
        "            indented_line = \" \" * task_indent + line  # Indent each line by the specified amount\n",
        "            paragraph = Paragraph(indented_line, regular_style)\n",
        "\n",
        "            # Draw the paragraph on the canvas\n",
        "            paragraph_width, paragraph_height = paragraph.wrap(box_width - task_indent*font_size, available_height)\n",
        "            paragraph.drawOn(pdf_canvas, x + 5 + task_indent*font_size, y_position - paragraph_height)\n",
        "\n",
        "            y_position -= paragraph_height  # Move to the next line\n",
        "\n",
        "            # If the remaining available height is not enough for another line, stop\n",
        "            if y_position < y:\n",
        "                break"
      ],
      "metadata": {
        "id": "WRRhgNDniv9_"
      },
      "execution_count": 16,
      "outputs": []
    },
    {
      "cell_type": "code",
      "source": [],
      "metadata": {
        "id": "7ivyVcAiPJBO"
      },
      "execution_count": 16,
      "outputs": []
    },
    {
      "cell_type": "markdown",
      "source": [
        "## Suggest Box"
      ],
      "metadata": {
        "id": "TqFtdyxXULys"
      }
    },
    {
      "cell_type": "code",
      "source": [
        "#->score will be passed as argument and resutls accordingly\n",
        "def suggest_box(txt,color):\n",
        "    import re\n",
        "\n",
        "    add_rounded_text_boxr(canvas, 273,40 , 300, 323, 30, color, (255, 255, 255), 4, 7, (0, 0, 0), \"Kalam-Light\", \"                  \")\n",
        "    add_rounded_box(canvas,303,305,215,45,radius=22.5,border_color=color,bg_color=color,border_thickness=1.2)\n",
        "    add_rounded_box(canvas,308,310,215,45,radius=22.5,border_color=color,bg_color=(255,255,255),border_thickness=1.2)\n",
        "\n",
        "    match = re.search(r'(\"[^\"]*\")', txt)\n",
        "    if match:\n",
        "        captured_text = match.group(1)\n",
        "        title=captured_text\n",
        "    else:\n",
        "        title = \"N/A\"\n",
        "    add_rounded_text_boxt(canvas, 318,317 , 170, 30,2 , (255, 255, 255), (255, 255, 255), 0.5, 8, (0, 0, 0), \"Kalam-Bold\", title)\n",
        "\n",
        "    # Define the regular expression pattern\n",
        "    pattern = r'Task \\d+: (.*?)(?=Task \\d+|$)'\n",
        "    # Find all matches in the text\n",
        "    matches = re.findall(pattern, txt, re.DOTALL)\n",
        "    # Store the captured tasks in a variable\n",
        "    captured_tasks = \"\\n\\n\".join([f\"Task {i}: {match.strip()}\" for i, match in enumerate(matches, start=1)])\n",
        "\n",
        "    add_text_to_box(canvas, captured_tasks, 290, 86, 250, 208, 8, task_indent=2,line_spacing=1,font_style=\"Kalam-Light\")\n"
      ],
      "metadata": {
        "id": "SZP8Fj2BUP45"
      },
      "execution_count": 17,
      "outputs": []
    },
    {
      "cell_type": "code",
      "source": [
        "def MeanEx_box(canvas, text, x, y, box_width, box_height, radii, box_thickness=1, text_size=12, font_style=\"Helvetica\", box_border_color=(255,102,196), bg_color=(255,255,255), text_color=(0,0,0)):\n",
        "\n",
        "    canvas.setLineWidth(box_thickness)\n",
        "    canvas.setFillColorRGB(*[col/255 for col in box_border_color])  # Convert color values to range [0, 1]\n",
        "    canvas.setStrokeColorRGB(*[col/255 for col in box_border_color])\n",
        "    canvas.roundRect(x, y, box_width, box_height, radii, stroke=1, fill=0)\n",
        "\n",
        "    # Create paragraph styles\n",
        "    styles = getSampleStyleSheet()\n",
        "    bold_style = ParagraphStyle('BoldStyle', parent=styles['Normal'], fontName=font_style + \"-Bold\", fontSize=text_size, textColor=text_color, leading=text_size * 1.2)\n",
        "    regular_style = ParagraphStyle('RegularStyle', parent=styles['Normal'], fontName=font_style+\"-Light\", fontSize=text_size, textColor=text_color, leading=text_size * 1.2)\n",
        "\n",
        "    # Split the text into sections\n",
        "    sections = text.split('\\n\\n')\n",
        "\n",
        "    # Draw the text inside the rounded box\n",
        "    y_position = y + box_height - 5\n",
        "    for section in sections:\n",
        "        lines = section.split('\\n')\n",
        "        for i, line in enumerate(lines):\n",
        "            if line.endswith(\":\"):\n",
        "                p = Paragraph(line, bold_style)\n",
        "            else:\n",
        "                p = Paragraph(line, regular_style)\n",
        "\n",
        "            p.wrapOn(canvas, box_width - 20, box_height - 20)\n",
        "            p.drawOn(canvas, x + 10, y_position - p.height)\n",
        "            y_position -= p.height + 5\n",
        "\n"
      ],
      "metadata": {
        "id": "sbd_jvK_SgaM"
      },
      "execution_count": 18,
      "outputs": []
    },
    {
      "cell_type": "code",
      "source": [
        "def Factor_box(canvas, text, x, y, box_width, box_height, radii, box_thickness=1, text_size=12, font_style=\"Helvetica\", box_border_color=(255,102,196), bg_color=(255,255,255), text_color=(0,0,0)):\n",
        "    canvas.setLineWidth(box_thickness)\n",
        "    canvas.setFillColorRGB(*[col/255 for col in box_border_color])  # Convert color values to range [0, 1]\n",
        "    canvas.setStrokeColorRGB(*[col/255 for col in box_border_color])\n",
        "    canvas.roundRect(x, y, box_width, box_height, radii, stroke=1, fill=0)\n",
        "\n",
        "    # Create paragraph styles\n",
        "    styles = getSampleStyleSheet()\n",
        "    bold_style = ParagraphStyle('BoldStyle', parent=styles['Normal'], fontName=font_style + \"-Bold\", fontSize=text_size, textColor=text_color, leading=text_size * 1.2)\n",
        "    regular_style = ParagraphStyle('RegularStyle', parent=styles['Normal'], fontName=font_style+\"-Light\", fontSize=text_size, textColor=text_color, leading=text_size * 1.2)\n",
        "\n",
        "    # Split the text into sections\n",
        "    sections = text.split('\\n\\n')\n",
        "\n",
        "    # Draw the text inside the rounded box\n",
        "    y_position = y + box_height - 10\n",
        "    for section in sections:\n",
        "        lines = section.split('\\n')\n",
        "        for i, line in enumerate(lines):\n",
        "            if i == 0:\n",
        "                p = Paragraph(line, bold_style)\n",
        "            else:\n",
        "                p = Paragraph(line, regular_style)\n",
        "\n",
        "            p.wrapOn(canvas, box_width - 20, box_height - 20)\n",
        "            p.drawOn(canvas, x + 10, y_position - p.height)\n",
        "            y_position -= p.height + 5\n"
      ],
      "metadata": {
        "id": "Dpe42O9tAsNB"
      },
      "execution_count": 19,
      "outputs": []
    },
    {
      "cell_type": "markdown",
      "source": [
        "# Complete Report"
      ],
      "metadata": {
        "id": "SWB9Z8x4dJJZ"
      }
    },
    {
      "cell_type": "code",
      "source": [
        "# Create a canvas\n",
        "output_filename = \"BT-1.pdf\"\n",
        "canvas = Canvas(output_filename, pagesize=A4)\n",
        "\n",
        "###<<<<<<<<<<<<<<<<<<<<--------------------------->>>>>>>>>>>>>>>>>>>>>>>>\n",
        "\n",
        "def fr(name,cls=6,sec=\"A\",roll=1,Trait=\"LOGIC\",color=(203,108,230),trait_tile=False):\n",
        "\n",
        "  data= pd.read_csv(\"/content/BPNB-Class6.csv\")\n",
        "  df=pd.read_csv(\"/content/BPNB-Class\"+str(cls)+\".csv\")\n",
        "\n",
        "  for i in range(len(df)):\n",
        "    if (df.NAME[i] == name) & (df.SECTION[i] == sec) & (df.ROLL[i] == roll):\n",
        "      name=df.NAME[i]\n",
        "      sec=df.SECTION[i]\n",
        "      roll=df.ROLL[i]\n",
        "      c=i\n",
        "\n",
        "  tr=pd.read_excel(\"/content/Trait wise Statement.xlsx\",skiprows=2).transpose()\n",
        "  td = pd.read_excel(\"/content/TRAIT DESC.xlsx\")\n",
        "\n",
        "\n",
        "  score=df[Trait][c].round(2)\n",
        "  l=[\"LOGIC\",\"CONCENTRATION\",\"FOCUS\",\"COGNITIVE SKILL\",\"RETENTION POWER\",\"HARD WORKING\",\"STUDY HABIT\",\"CONSCIOUSNESS\",\"SILLY MISTAKES\",\"KNOWLEDGE GAP\",\"IMPULSIVE\",\"LEARNING GAP\"]\n",
        "  c=l.index(Trait)\n",
        "  if math.ceil(score) == 0:\n",
        "    ssr=tr[c][1]\n",
        "  else:\n",
        "    ssr=tr[c][math.ceil(score)]\n",
        "\n",
        "\n",
        "\n",
        "  meanex=td[\"Meaning\"][c]\n",
        "  factortxt=td[\"Factors\"][c]\n",
        "\n",
        "  if trait_tile == \"Bright\":\n",
        "        add_rounded_text_box(canvas, \"BRIGHT TRAITS\",220,710,corner_radii=7, bg_color=(6, 172, 28), border_color=(6, 172, 28), text_color=(0, 0, 0), text_size=20, text_font=\"Poppins-Bold\")\n",
        "        add_line(canvas, 298, 720, length=147, width=2, color=(0, 0, 0), line_style='solid')\n",
        "  elif trait_tile == \"Dark\":\n",
        "        add_rounded_text_box(canvas, \"DARK TRAITS\",220,710,corner_radii=7, bg_color=(255, 49, 49), border_color=(255, 45, 45), text_color=(0, 0, 0), text_size=20, text_font=\"Poppins-Bold\")\n",
        "        add_line(canvas, 290, 720, length=130, width=2, color=(0, 0, 0), line_style='solid')\n",
        "\n",
        "  let_head(canvas,name,\"6\",str(roll),sec)\n",
        "\n",
        "  add_rounded_text_box(canvas, Trait,27,695,corner_radii=7, bg_color=color, border_color=color, text_color=(0, 0, 0), text_size=20, text_font=\"Kalam-Bold\")\n",
        "\n",
        "  MeanEx_box(canvas, meanex, 12, 548, 350, 130, 10, box_thickness=2, text_size=10, font_style=\"Kalam\", box_border_color=color, bg_color=(255,255,255), text_color=(0,0,0))\n",
        "  Factor_box(canvas, factortxt, 12, 407, 350, 130, 10, box_thickness=2, text_size=10, font_style=\"Kalam\", box_border_color=color, bg_color=(255,255,255), text_color=(0,0,0))\n",
        "\n",
        "  add_line(canvas, 300, 395, length=580, width=1.2, color=(0, 0, 0), line_style='solid')\n",
        "  add_rounded_text_box(canvas, \"Your Report\",10,355,corner_radii=7, bg_color=color, border_color=color, text_color=(0, 0, 0), text_size=20, text_font=\"Kalam-Bold\")\n",
        "  insert_image(canvas, '/content/'+Trait+'.png', 365, 440, 225,250 )\n",
        "  add_rounded_box(canvas,15,40,250,230,radius=20,border_color=color,bg_color=(255,255,255),border_thickness=3)\n",
        "\n",
        "  score_viz(str(score))\n",
        "\n",
        "  suggest_box(ssr,color)\n",
        "  # canvas.showPage()\n",
        "  # Save the canvas\n",
        "  #canvas.save()\n",
        "\n"
      ],
      "metadata": {
        "id": "BbfLBF9F6ro-"
      },
      "execution_count": 28,
      "outputs": []
    },
    {
      "cell_type": "code",
      "source": [
        "name=\"Deboshruti Bagchi\"  ##Pls type the correct details\n",
        "roll=56\n",
        "\n",
        "fr(name,cls=6,sec=\"A\",roll=roll,Trait=\"LOGIC\",color=(255,102,196),trait_tile=\"Bright\")#(255,168,120)\n",
        "canvas.showPage()\n",
        "fr(name,cls=6,sec=\"A\",roll=roll,Trait=\"CONCENTRATION\",color=(82,113,255))\n",
        "canvas.showPage()\n",
        "fr(name,cls=6,sec=\"A\",roll=roll,Trait=\"FOCUS\",color=(251,186,14))\n",
        "canvas.showPage()\n",
        "fr(name,cls=6,sec=\"A\",roll=roll,Trait=\"COGNITIVE SKILL\",color=(0,191,99))\n",
        "canvas.showPage()\n",
        "fr(name,cls=6,sec=\"A\",roll=roll,Trait=\"RETENTION POWER\",color=(253,91,50))\n",
        "canvas.showPage()\n",
        "fr(name,cls=6,sec=\"A\",roll=roll,Trait=\"HARD WORKING\",color=(255,168,120))\n",
        "canvas.showPage()\n",
        "fr(name,cls=6,sec=\"A\",roll=roll,Trait=\"STUDY HABIT\",color=(255,222,89))\n",
        "canvas.showPage()\n",
        "fr(name,cls=6,sec=\"A\",roll=roll,Trait=\"CONSCIOUSNESS\",color=(203,108,230))\n",
        "canvas.showPage()\n",
        "fr(name,cls=6,sec=\"A\",roll=roll,Trait=\"SILLY MISTAKES\",color=(255,188,125),trait_tile=\"Dark\")\n",
        "canvas.showPage()\n",
        "fr(name,cls=6,sec=\"A\",roll=roll,Trait=\"KNOWLEDGE GAP\",color=(96,207,255))\n",
        "canvas.showPage()\n",
        "fr(name,cls=6,sec=\"A\",roll=roll,Trait=\"IMPULSIVE\",color=(255,49,49))\n",
        "canvas.showPage()\n",
        "fr(name,cls=6,sec=\"A\",roll=roll,Trait=\"LEARNING GAP\",color=(28,122,239))\n",
        "canvas.save()"
      ],
      "metadata": {
        "id": "FqtGuhENnz1k"
      },
      "execution_count": 30,
      "outputs": []
    },
    {
      "cell_type": "code",
      "source": [
        "# fr(\"Sani Sarkar\",cls=6,sec=\"A\",roll=56,Trait=\"SILLY MISTAKES\",color=(255,49,49),trait_tile=\"Dark\")\n",
        "# canvas.save()"
      ],
      "metadata": {
        "id": "DPZIE0l-2rEw"
      },
      "execution_count": 22,
      "outputs": []
    },
    {
      "cell_type": "code",
      "source": [
        "# l=[\"LOGIC\",\"CONCENTRATION\",\"FOCUS\",\"COGNITIVE SKILL\",\"RETENTION POWER\",\"HARD WORKING\",\"STUDY HABIT\",\"CONSCIOUSNESS\",\"SILLY MISTAKES\",\"KNOWLEDGE GAP\",\"IMPULSIVE\",\"LEARNING GAP\"]\n",
        "# colors=[(255,102,196),(82,113,255),(251,186,14),(0,191,99),(253,91,50),(255,168,120),(255,222,89),(203,108,230),(255,188,125),(96,207,255),(255,49,49),(28,122,239)]\n",
        "\n",
        "# def complete_Report(name,cls=6,sec=\"A\",roll=1,canvas=canvas):\n",
        "#   output_filename = \"CR-1.pdf\"\n",
        "#   canvas = Canvas(output_filename, pagesize=A4)\n",
        "#   for i in range(len(l)):\n",
        "#     if l[i] == \"LOGIC\":\n",
        "#       fr(name,cls,sec,roll,Trait=\"LOGIC\",color=colors[i],trait_tile=\"Bright\")\n",
        "\n",
        "#     elif l[i] == \"SILLY MISTAKES\":\n",
        "#       fr(name,cls,sec,roll,Trait=\"SILLY MISTAKES\",color=colors[i],trait_tile=\"Dark\")\n",
        "\n",
        "#     else :\n",
        "#       fr(name,cls,sec,roll,Trait=l[i],color=colors[i])\n",
        "\n",
        "#   canvas.save()\n",
        "\n"
      ],
      "metadata": {
        "id": "a7m3njvtKFDE"
      },
      "execution_count": 23,
      "outputs": []
    },
    {
      "cell_type": "code",
      "source": [
        "# output_filename = \"CR-1.pdf\"\n",
        "# canvas = Canvas(output_filename, pagesize=A4)\n",
        "# complete_Report(\"Deboshruti Bagchi\",6,\"A\",1)"
      ],
      "metadata": {
        "id": "4QxTVWej8yHD"
      },
      "execution_count": 24,
      "outputs": []
    },
    {
      "cell_type": "code",
      "source": [],
      "metadata": {
        "id": "rHBN2AmSaSKv"
      },
      "execution_count": 24,
      "outputs": []
    },
    {
      "cell_type": "code",
      "source": [],
      "metadata": {
        "id": "pOiSaz_CXjwv"
      },
      "execution_count": 24,
      "outputs": []
    },
    {
      "cell_type": "code",
      "source": [],
      "metadata": {
        "id": "0BVCbYu-gmAY"
      },
      "execution_count": 24,
      "outputs": []
    }
  ]
}