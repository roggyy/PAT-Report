{
  "nbformat": 4,
  "nbformat_minor": 0,
  "metadata": {
    "colab": {
      "provenance": [],
      "collapsed_sections": [
        "bjTUnlktQrlT",
        "2jjVmwZaRaIS"
      ],
      "authorship_tag": "ABX9TyPSTKrFW5t2rzWsQssYH+0a",
      "include_colab_link": true
    },
    "kernelspec": {
      "name": "python3",
      "display_name": "Python 3"
    },
    "language_info": {
      "name": "python"
    }
  },
  "cells": [
    {
      "cell_type": "markdown",
      "metadata": {
        "id": "view-in-github",
        "colab_type": "text"
      },
      "source": [
        "<a href=\"https://colab.research.google.com/github/roggyy/PAT-Report/blob/main/PR_BT1.ipynb\" target=\"_parent\"><img src=\"https://colab.research.google.com/assets/colab-badge.svg\" alt=\"Open In Colab\"/></a>"
      ]
    },
    {
      "cell_type": "code",
      "execution_count": 79,
      "metadata": {
        "colab": {
          "base_uri": "https://localhost:8080/"
        },
        "id": "Sy_5a1KKIu_Y",
        "outputId": "a8273cb3-2a7b-4556-dbfe-1ee5c1376b84"
      },
      "outputs": [
        {
          "output_type": "stream",
          "name": "stdout",
          "text": [
            "Requirement already satisfied: reportlab in /usr/local/lib/python3.10/dist-packages (4.0.4)\n",
            "Requirement already satisfied: pillow>=9.0.0 in /usr/local/lib/python3.10/dist-packages (from reportlab) (9.4.0)\n"
          ]
        }
      ],
      "source": [
        "!pip install reportlab"
      ]
    },
    {
      "cell_type": "code",
      "source": [
        "from reportlab.lib.pagesizes import letter\n",
        "from reportlab.lib.pagesizes import A4\n",
        "from reportlab.pdfgen.canvas import Canvas\n",
        "from reportlab.pdfbase import pdfmetrics\n",
        "from reportlab.pdfbase.ttfonts import TTFont\n"
      ],
      "metadata": {
        "id": "6VYFuvAsQgb2"
      },
      "execution_count": 80,
      "outputs": []
    },
    {
      "cell_type": "code",
      "source": [
        "pdfmetrics.registerFont(TTFont('Kalam-Bold', 'Kalam-Bold.ttf'))\n",
        "pdfmetrics.registerFont(TTFont('Kalam-Light', 'Kalam-Light.ttf'))\n",
        "pdfmetrics.registerFont(TTFont('Poppins-Bold', 'Poppins-Bold.ttf'))\n",
        "#pdfmetrics.registerFont(TTFont('Black_Bones', '/content/BlackBones.ttf'))\n",
        "pdfmetrics.registerFont(TTFont('IBMPlexSans-Bold', 'IBMPlexSans-Bold.ttf'))"
      ],
      "metadata": {
        "id": "mWpv5ix1Qj7_"
      },
      "execution_count": 81,
      "outputs": []
    },
    {
      "cell_type": "markdown",
      "source": [
        "# Elemental Functions\n",
        "### General parameter style- (canvas,object,coordinate,dimension,coloring,etc_styling)"
      ],
      "metadata": {
        "id": "bjTUnlktQrlT"
      }
    },
    {
      "cell_type": "code",
      "source": [
        "def insert_image(canvas, image_path, x, y, width=None, height=None):\n",
        "    # Insert the image at the specified position\n",
        "    if width is not None and height is not None:\n",
        "        canvas.drawImage(image_path, x, y, width=width, height=height, mask='auto')\n",
        "    else:\n",
        "        canvas.drawImage(image_path, x, y, mask='auto')"
      ],
      "metadata": {
        "id": "VcP-IJI2Qn7u"
      },
      "execution_count": 82,
      "outputs": []
    },
    {
      "cell_type": "code",
      "source": [
        "def add_text(canvas, text, x, y, font_size=12, font_style=\"Helvetica\",color=(0, 0, 0), underline=False, italic=False, bold=False):\n",
        "    # Set font size and font type\n",
        "    font_name = font_style\n",
        "    if bold:\n",
        "        font_name += \"-Bold\"\n",
        "    if italic:\n",
        "        font_name += \"-Oblique\"\n",
        "\n",
        "    canvas.setFont(font_name, font_size)\n",
        "    canvas.setStrokeColorRGB(*color)\n",
        "\n",
        "    # Set text decoration (underline)\n",
        "    if underline:\n",
        "        canvas.drawString(x, y - font_size - 1, text, mode=\"underline\")\n",
        "    else:\n",
        "        canvas.drawString(x, y - font_size - 1, text)"
      ],
      "metadata": {
        "id": "vZQUas0QQ2OQ"
      },
      "execution_count": 83,
      "outputs": []
    },
    {
      "cell_type": "code",
      "source": [
        "def add_line(canvas, x, y, length, width=1, color=(0, 0, 0), line_style=None):\n",
        "    # Calculate start and end points based on center coordinates and length\n",
        "    x1 = x - length / 2\n",
        "    x2 = x + length / 2\n",
        "    y1 = y2 = y\n",
        "\n",
        "    # Set line attributes\n",
        "    canvas.setLineWidth(width)\n",
        "    canvas.setStrokeColorRGB(*color)\n",
        "\n",
        "    if line_style == 'dotted':\n",
        "        canvas.setDash([1, 2], 0)\n",
        "    elif line_style == 'dashed':\n",
        "        canvas.setDash([4, 2], 0)\n",
        "\n",
        "    # Draw the line\n",
        "    canvas.line(x1, y1, x2, y2)"
      ],
      "metadata": {
        "id": "p7hpD0QxQ2K0"
      },
      "execution_count": 84,
      "outputs": []
    },
    {
      "cell_type": "code",
      "source": [
        "def add_rounded_text_box(canvas, text, x, y, corner_radii=10, text_size=12, text_font=\"Helvetica\", bg_color=(0, 0, 0), border_color=(0, 0, 0), text_color=(0, 0, 0)):\n",
        "    # Calculate text width and height\n",
        "    text_width = canvas.stringWidth(text, text_font, text_size)\n",
        "    text_height = text_size * 1.2\n",
        "\n",
        "    # Calculate box size with margins\n",
        "    box_width = text_width + 10\n",
        "    box_height = text_height + 10\n",
        "\n",
        "    # Set border color and background color\n",
        "    border_color = tuple(val / 255 for val in border_color)\n",
        "    bg_color = tuple(val / 255 for val in bg_color)\n",
        "\n",
        "    canvas.setStrokeColorRGB(*border_color)\n",
        "    canvas.setFillColorRGB(*bg_color)\n",
        "\n",
        "    # Set border thickness\n",
        "    canvas.setLineWidth(2)\n",
        "\n",
        "    # Draw rounded rectangle\n",
        "    canvas.roundRect(x, y, box_width, box_height, corner_radii, stroke=1, fill=1)\n",
        "\n",
        "    # Set text color and font\n",
        "    canvas.setFillColorRGB(*text_color)\n",
        "    canvas.setFont(text_font, text_size)\n",
        "\n",
        "    # Draw the text at the center of the box\n",
        "    text_x = x + (box_width - text_width) / 2\n",
        "    text_y = y + (box_height - text_height) / 2 + 7\n",
        "    canvas.drawString(text_x, text_y, text)"
      ],
      "metadata": {
        "id": "Hr0SQyiuQ2H8"
      },
      "execution_count": 85,
      "outputs": []
    },
    {
      "cell_type": "code",
      "source": [
        "def add_rounded_box(canvas, x, y, width, height, radius=10,border_thickness=1, border_color=(0, 0, 0), bg_color=(255, 255, 255)):\n",
        "    # Convert RGB values to floats in the range 0 to 1\n",
        "    border_color = tuple(val / 255 for val in border_color)\n",
        "    bg_color = tuple(val / 255 for val in bg_color)\n",
        "\n",
        "    # Set border color and background color\n",
        "    canvas.setStrokeColorRGB(*border_color)\n",
        "    canvas.setFillColorRGB(*bg_color)\n",
        "\n",
        "    # Set border thickness\n",
        "    canvas.setLineWidth(border_thickness)\n",
        "\n",
        "    # Draw rounded rectangle\n",
        "    canvas.roundRect(x, y, width, height, radius, stroke=1, fill=1)"
      ],
      "metadata": {
        "id": "LpeJrGd0Q2FI"
      },
      "execution_count": 86,
      "outputs": []
    },
    {
      "cell_type": "markdown",
      "source": [
        "## Score Viz"
      ],
      "metadata": {
        "id": "Lugq1criIQ-e"
      }
    },
    {
      "cell_type": "code",
      "source": [
        "def score_viz(score):\n",
        "  insert_image(canvas, '/content/btmLeft.png', 10, 300, 250,75 )\n",
        "  add_rounded_text_boxw(canvas, \"Your Score- \", 70,330, corner_radii=4, bg_color=(255,255,255), border_color=(255,255, 255), text_color=(0, 0, 0), text_size=16, text_font=\"Kalam-Bold\")\n",
        "  add_rounded_text_boxw(canvas, score, 160,325, corner_radii=4, bg_color=(255,255,255), border_color=(255,255, 255), text_color=(200, 0, 0), text_size=28, text_font=\"Kalam-Bold\")\n"
      ],
      "metadata": {
        "id": "qgnXbGRBIXbZ"
      },
      "execution_count": 87,
      "outputs": []
    },
    {
      "cell_type": "markdown",
      "source": [
        "# Compound Functions"
      ],
      "metadata": {
        "id": "2jjVmwZaRaIS"
      }
    },
    {
      "cell_type": "code",
      "source": [
        "#@title Letter head\n",
        "def let_head(canvas,name,cls,roll,sec):\n",
        "  # Define image parameters\n",
        "  image_path_1 = '/content/testImg.jpeg'  # Replace with the actual path to your image\n",
        "  image_path_2 = '/content/compImg.jpeg'\n",
        "\n",
        "  x1, y1 = A4[0] - 590, A4[1] - 65  # Position at the top-right corner\n",
        "  x2, y2 = A4[0] - 155, A4[1] - 50  # Position for the second image\n",
        "\n",
        "  # Call the function to insert images\n",
        "  insert_image(canvas, image_path_1, x1, y1, 166, 53)\n",
        "  insert_image(canvas, image_path_2, x2, y2, 135, 27)\n",
        "\n",
        "  x = letter[0] / 2 -80\n",
        "  y = letter[1] - 25  # Adjust as needed\n",
        "\n",
        "\n",
        "  # Use placeholder formatting for side-by-side text\n",
        "  formatted_text = \"{} | {} | {} | {}\".format(name, cls, roll, sec)\n",
        "  add_text(canvas, formatted_text, 210,813, font_size=11,font_style=\"IBMPlexSans-Bold\")\n",
        "  ##solid,dotted,dashed\n",
        "  add_line(canvas, 300, 760, length=625, width=1, color=(0, 0, 0), line_style='solid')"
      ],
      "metadata": {
        "id": "yBAgsuSSQ2CV"
      },
      "execution_count": 88,
      "outputs": []
    },
    {
      "cell_type": "markdown",
      "source": [
        "## Suggest Box"
      ],
      "metadata": {
        "id": "TqFtdyxXULys"
      }
    },
    {
      "cell_type": "code",
      "source": [
        "#->score will be passed as argument and resutls accordingly\n",
        "def suggest_box():\n",
        "\n",
        "    la=\"\"\"Task 1: Continuous Learning and Exploration\\n\n",
        "    - Dedicate 15 minutes each week to explore related concepts or advanced\n",
        "    topics beyond your current level of study.\\n\n",
        "    - Seek out supplementary materials, books, or research papers to deepen\n",
        "    your understanding.\\n\n",
        "    - Stay updated with recent developments and applications in the field.\\n\n",
        "    Task 2: Analyze Real-World Applications\\n\n",
        "    - Spend 10-15 minutes researching and analyzing real-world applications\n",
        "    of the concept.\\n\n",
        "    - Evaluate how the concept is applied in different industries or scenarios.\\n\n",
        "    - Reflect on how the understanding of the concept can be extended or\n",
        "    applied in practical situations.\\n\n",
        "    Task 3: Peer Collaboration and Discussion\\n\n",
        "    - Engage in group discussions or study sessions with peers who share a\n",
        "    similar level of understanding.\\n\n",
        "    - Spend 15 minutes discussing complex concepts, sharing insights, and\n",
        "    challenging each other's understanding.\\n\n",
        "    - Collaborate on solving advanced problems or case studies to further\n",
        "    refine your logical thinking skills.\\n\n",
        "    \"\"\"\n",
        "\n",
        "\n",
        "    add_rounded_text_boxr(canvas, 273,40 , 300, 323, 30, (255, 0, 255), (255, 255, 255), 4, 7, (0, 0, 0), \"Kalam-Light\", \"                  \")\n",
        "    add_rounded_box(canvas,303,305,215,45,radius=22.5,border_color=(255, 0, 255),bg_color=(255,0,255),border_thickness=1.2)\n",
        "    add_rounded_box(canvas,308,310,215,45,radius=22.5,border_color=(255, 0, 255),bg_color=(255,255,255),border_thickness=1.2)\n",
        "    las=\"\"\"\"Very good logical understanding of the concept.\n",
        "    Rarely makes silly mistakes, retains the\n",
        "    information well.\"\n",
        "    \"\"\"\n",
        "    add_rounded_text_boxr(canvas, 318,317 , 170, 30,2 , (255, 255, 255), (255, 255, 255), 0.5, 8, (0, 0, 0), \"Kalam-Bold\", las)\n",
        "    add_rounded_text_boxr(canvas, 300,208 , 250, 90,2 , (255, 255, 255), (255, 255, 255), 0.5, 6.5, (0, 0, 0), \"Kalam-Light\", la)\n",
        "    add_rounded_text_boxw(canvas, \"Task 1: Continuous Learning and Exploration\", 310,288, corner_radii=4, bg_color=(255,255,255), border_color=(255,255, 255), text_color=(0, 0, 0), text_size=6.5, text_font=\"Kalam-Bold\")\n",
        "    add_rounded_text_boxw(canvas, \"Task 2: Analyze Real-World Applications\", 310,210, corner_radii=4, bg_color=(255,255,255), border_color=(255,255, 255), text_color=(0, 0, 0), text_size=6.5, text_font=\"Kalam-Bold\")\n",
        "    add_rounded_text_boxw(canvas, \"Task 3: Peer Collaboration and Discussion\", 310,132, corner_radii=4, bg_color=(255,255,255), border_color=(255,255, 255), text_color=(0, 0, 0), text_size=6.5, text_font=\"Kalam-Bold\")"
      ],
      "metadata": {
        "id": "SZP8Fj2BUP45"
      },
      "execution_count": 89,
      "outputs": []
    },
    {
      "cell_type": "code",
      "source": [
        "\n",
        "def add_rounded_text_boxm(canvas,text ,x, y, box_width, box_height, radii,box_border_thickness, box_border_color, box_bg_color,\n",
        "                         text_size, text_color, text_font, text_to_box_padding):\n",
        "    # Draw the box\n",
        "    canvas.setStrokeColorRGB(*box_border_color)\n",
        "    canvas.setFillColorRGB(*box_bg_color)\n",
        "    canvas.setLineWidth(box_border_thickness)\n",
        "    canvas.roundRect(x, y, box_width, box_height, radii, stroke=1, fill=1)\n",
        "\n",
        "    # Set font size and font type for the text\n",
        "    canvas.setFont(text_font, text_size)\n",
        "\n",
        "    # Calculate the available width and height for the text\n",
        "    text_width = box_width - 2 * text_to_box_padding\n",
        "    text_height = box_height - 2 * text_to_box_padding\n",
        "\n",
        "    # Split the text into lines that fit within the available width\n",
        "    lines = []\n",
        "    words = text.split()\n",
        "    line = words[0]\n",
        "    for word in words[1:]:\n",
        "        if canvas.stringWidth(line + ' ' + word, text_font, text_size) <= text_width:\n",
        "            line += ' ' + word\n",
        "        else:\n",
        "            lines.append(line)\n",
        "            line = word\n",
        "    lines.append(line)\n",
        "\n",
        "    # Draw the text lines within the box\n",
        "    text_x = x + text_to_box_padding\n",
        "    text_y = y + box_height - text_to_box_padding - text_size\n",
        "    for line in lines:\n",
        "        canvas.setFillColorRGB(*text_color)\n",
        "        canvas.drawString(text_x, text_y, line)\n",
        "        text_y -= text_size * 1.2  # Move to the next line\n"
      ],
      "metadata": {
        "id": "8K-9QvYDzwKn"
      },
      "execution_count": 90,
      "outputs": []
    },
    {
      "cell_type": "code",
      "source": [
        "def add_rounded_text_boxw(canvas, text, x, y, corner_radii=10, text_size=12, text_font=\"Helvetica\", bg_color=(0, 0, 0), border_color=(0, 0, 0), text_color=(0, 0, 0)):\n",
        "    # Calculate text width and height\n",
        "    text_width = canvas.stringWidth(text, text_font, text_size)\n",
        "    text_height = text_size * 1.2\n",
        "\n",
        "    # Calculate box size with margins\n",
        "    box_width = text_width\n",
        "    box_height = text_height\n",
        "\n",
        "    # Set border color and background color\n",
        "    border_color = tuple(val / 255 for val in border_color)\n",
        "    bg_color = tuple(val / 255 for val in bg_color)\n",
        "\n",
        "    canvas.setStrokeColorRGB(*border_color)\n",
        "    canvas.setFillColorRGB(*bg_color)\n",
        "\n",
        "    # Set border thickness\n",
        "    canvas.setLineWidth(2)\n",
        "\n",
        "    # Draw rounded rectangle\n",
        "    canvas.roundRect(x, y, box_width, box_height, corner_radii, stroke=1, fill=1)\n",
        "\n",
        "    # Set text color and font\n",
        "    canvas.setFillColorRGB(*text_color)\n",
        "    canvas.setFont(text_font, text_size)\n",
        "\n",
        "    # Draw the text at the center of the box\n",
        "    text_x = x + (box_width - text_width) / 2\n",
        "    text_y = y + (box_height - text_height) / 2 + 3\n",
        "    canvas.drawString(text_x, text_y, text)"
      ],
      "metadata": {
        "id": "CpFC2-7u6iXg"
      },
      "execution_count": 91,
      "outputs": []
    },
    {
      "cell_type": "code",
      "source": [
        "def add_rounded_boxwm(canvas, text,x, y, radii, box_width, box_height, bg_color, border_color, text_color, text_size, text_font,bold=False, italic=False):\n",
        "    # Calculate the width and height of the rounded box based on the provided dimensions\n",
        "    margin = 2\n",
        "    width = box_width - 2 * margin\n",
        "    height = box_height - 2 * margin\n",
        "\n",
        "    # Set border color and background color\n",
        "    canvas.setStrokeColorRGB(*border_color)\n",
        "    canvas.setFillColorRGB(*bg_color)\n",
        "\n",
        "    # Draw rounded rectangle\n",
        "    canvas.roundRect(x, y, width, height, radii, stroke=1, fill=1)\n",
        "\n",
        "    # Set text color and font\n",
        "    canvas.setFillColorRGB(*text_color)\n",
        "\n",
        "    if bold:\n",
        "        text_font += \"-Bold\"\n",
        "    if italic:\n",
        "        text_font += \"-Italic\"\n",
        "\n",
        "    canvas.setFont(text_font, text_size)\n",
        "\n",
        "    # Calculate text position\n",
        "    x_text = x + margin\n",
        "    y_text = y + height - margin -7  # Start from the top\n",
        "\n",
        "    # Draw the multiline text within the box\n",
        "    words = text.split()\n",
        "    lines = []\n",
        "    current_line = words[0]\n",
        "\n",
        "    for word in words[1:]:\n",
        "        test_line = current_line + ' ' + word\n",
        "        if canvas.stringWidth(test_line, text_font, text_size) <= width:\n",
        "            current_line = test_line\n",
        "        else:\n",
        "            lines.append(current_line)\n",
        "            current_line = word\n",
        "\n",
        "    # Add the last line\n",
        "    lines.append(current_line)\n",
        "\n",
        "    # Draw the lines\n",
        "    for line in lines:\n",
        "        canvas.drawString(x_text, y_text, line)\n",
        "        y_text -= text_size + 2  # Move to the next line\n"
      ],
      "metadata": {
        "id": "ORHEYt5v6lQF"
      },
      "execution_count": 92,
      "outputs": []
    },
    {
      "cell_type": "code",
      "source": [
        "def add_rounded_text_boxr(canvas, x, y, width, height, corner_radius, border_color, bg_color, border_thickness, text_size, text_color, text_font, text):\n",
        "    # Set border color and background color\n",
        "    border_color = tuple(val / 255 for val in border_color)\n",
        "    bg_color = tuple(val / 255 for val in bg_color)\n",
        "\n",
        "    canvas.setStrokeColorRGB(*border_color)\n",
        "    canvas.setFillColorRGB(*bg_color)\n",
        "\n",
        "    # Set border thickness\n",
        "    canvas.setLineWidth(border_thickness)\n",
        "\n",
        "    # Draw rounded rectangle\n",
        "    canvas.roundRect(x, y, width, height, corner_radius, stroke=1, fill=1)\n",
        "\n",
        "    # Split the multiline text into separate lines and reverse the order\n",
        "    lines = text.split('\\n')[::-1]\n",
        "\n",
        "    # Set text color and font\n",
        "    canvas.setFillColorRGB(*text_color)\n",
        "    canvas.setFont(text_font, text_size)\n",
        "\n",
        "    # Calculate the total height of all lines\n",
        "    total_text_height = len(lines) * text_size * 1.2\n",
        "\n",
        "    # Draw each line of text\n",
        "    for line in lines:\n",
        "        text_width = canvas.stringWidth(line, text_font, text_size)\n",
        "        text_x = x + 10  # Left justify by adding a small margin\n",
        "        text_y = y + (height - total_text_height) + text_size * 0.2\n",
        "        canvas.drawString(text_x, text_y, line)\n",
        "        total_text_height -= text_size * 1.2\n",
        "\n"
      ],
      "metadata": {
        "id": "faeEFnSO6pFF"
      },
      "execution_count": 93,
      "outputs": []
    },
    {
      "cell_type": "markdown",
      "source": [
        "# Bright Temp"
      ],
      "metadata": {
        "id": "SWB9Z8x4dJJZ"
      }
    },
    {
      "cell_type": "code",
      "source": [
        "# Create a canvas\n",
        "output_filename = \"BT-1.pdf\"\n",
        "canvas = Canvas(output_filename, pagesize=A4)\n",
        "let_head(canvas,\"Aniket Gupta\",\"class 4\",\"1234\",\"A\")\n",
        "\n",
        "# Call the function to Design the template\n",
        "add_rounded_text_box(canvas, \"BRIGHT TRAITS\",220,710,corner_radii=7, bg_color=(6, 172, 28), border_color=(6, 172, 28), text_color=(0, 0, 0), text_size=20, text_font=\"Poppins-Bold\")\n",
        "add_rounded_text_box(canvas, \"LOGIC\",27,695,corner_radii=7, bg_color=(255, 62, 230), border_color=(255, 62, 230), text_color=(0, 0, 0), text_size=20, text_font=\"Kalam-Bold\")\n",
        "add_rounded_text_boxm(canvas,txt, 12, 548, 350, 130, 10,2, (255, 0, 255), (255, 255, 255), 12 ,(0, 0, 0), \"Kalam-Light\", 3)\n",
        "add_rounded_text_boxw(canvas, \"Meaning: \", 16,661, corner_radii=4, bg_color=(255,255,255), border_color=(255,255, 255), text_color=(0, 0, 0), text_size=12, text_font=\"Kalam-Bold\")\n",
        "ex=\"\"\"Example- A student who simply memorizes formulas for math\n",
        "problems without comprehending the underlying concepts or\n",
        "logic.\"\"\"\n",
        "add_rounded_boxwm(canvas, ex, 16, 562, 4, 348,50, (255,255,255), (255,255,255), (0,0,0), 12, \"Kalam-Light\", bold=False, italic=False)\n",
        "add_rounded_text_boxw(canvas, \"Example: \", 16,597, corner_radii=4, bg_color=(255,255,255), border_color=(255,255, 255), text_color=(0, 0, 0), text_size=12, text_font=\"Kalam-Bold\")\n",
        "add_line(canvas, 300, 395, length=580, width=1.2, color=(0, 0, 0), line_style='solid')\n",
        "insert_image(canvas, '/content/topRight.jpeg', 365, 440, 225,250 )\n",
        "add_rounded_box(canvas,15,40,250,230,radius=20,border_color=(255, 0, 255),bg_color=(255,255,255),border_thickness=3)\n",
        "re = r\"\"\"\n",
        "1. Irregular study pattern\n",
        "2. Lack of understanding and conceptual clarity\n",
        "3. Rote memorization without logical thinking\n",
        "4. Inability to apply knowledge effectively\"\"\"\n",
        "add_rounded_text_boxr(canvas, 12, 407, 350, 130, 10, (255, 0, 255), (255, 255, 255), 2, 12, (0, 0, 0), \"Kalam-Light\", re)\n",
        "add_rounded_text_boxr(canvas, 12, 407, 350, 130, 10, (255, 0, 255), (255, 255, 255), 2, 12, (0, 0, 0), \"Kalam-Light\", re)\n",
        "score_viz(\"6.5\")\n",
        "add_line(canvas, 298, 720, length=147, width=2, color=(0, 0, 0), line_style='solid')\n",
        "add_rounded_text_boxw(canvas, \"Reason of Lower Score: \", 20,520, corner_radii=4, bg_color=(255,255,255), border_color=(255,255, 255), text_color=(0, 0, 0), text_size=12, text_font=\"Kalam-Bold\")\n",
        "suggest_box()\n",
        "\n",
        "# Save the canvas\n",
        "canvas.save()\n"
      ],
      "metadata": {
        "id": "BbfLBF9F6ro-"
      },
      "execution_count": 94,
      "outputs": []
    },
    {
      "cell_type": "code",
      "source": [],
      "metadata": {
        "id": "2EWZIiYYA8Tx"
      },
      "execution_count": 94,
      "outputs": []
    },
    {
      "cell_type": "code",
      "source": [],
      "metadata": {
        "id": "FeLDtoecT3WQ"
      },
      "execution_count": 94,
      "outputs": []
    }
  ]
}